{
  "nbformat": 4,
  "nbformat_minor": 0,
  "metadata": {
    "colab": {
      "provenance": [],
      "authorship_tag": "ABX9TyM+caCXNlV19v81BBMEFkW+",
      "include_colab_link": true
    },
    "kernelspec": {
      "name": "python3",
      "display_name": "Python 3"
    },
    "language_info": {
      "name": "python"
    }
  },
  "cells": [
    {
      "cell_type": "markdown",
      "metadata": {
        "id": "view-in-github",
        "colab_type": "text"
      },
      "source": [
        "<a href=\"https://colab.research.google.com/github/LOVISH066/Python/blob/main/Untitled7.ipynb\" target=\"_parent\"><img src=\"https://colab.research.google.com/assets/colab-badge.svg\" alt=\"Open In Colab\"/></a>"
      ]
    },
    {
      "cell_type": "code",
      "execution_count": null,
      "metadata": {
        "id": "THvrH-MrvvAW"
      },
      "outputs": [],
      "source": [
        "# logical operaotr"
      ]
    },
    {
      "cell_type": "code",
      "source": [
        "x = 3\n",
        "y = 5\n",
        "print(not(x<2 or y > 4))\n",
        "#or Operator"
      ],
      "metadata": {
        "colab": {
          "base_uri": "https://localhost:8080/"
        },
        "id": "T1Wr6MyVv9vS",
        "outputId": "914568ee-55ce-4213-9a70-05e3c77ed3b8"
      },
      "execution_count": null,
      "outputs": [
        {
          "output_type": "stream",
          "name": "stdout",
          "text": [
            "False\n"
          ]
        }
      ]
    },
    {
      "cell_type": "code",
      "source": [
        "#Assignment Operator divide will gvie floating value modulus will give reminder"
      ],
      "metadata": {
        "id": "F6qTlaiBwEux"
      },
      "execution_count": null,
      "outputs": []
    },
    {
      "cell_type": "code",
      "source": [
        "a=123\n",
        "b=513\n",
        "a//=b # // floor it will give integeer value\n",
        "print(a)"
      ],
      "metadata": {
        "colab": {
          "base_uri": "https://localhost:8080/"
        },
        "id": "vVnKOp7cxr6e",
        "outputId": "ca69a6a0-2ca8-4cfb-a72f-e4f69a942524"
      },
      "execution_count": null,
      "outputs": [
        {
          "output_type": "stream",
          "name": "stdout",
          "text": [
            "0\n"
          ]
        }
      ]
    },
    {
      "cell_type": "code",
      "source": [
        "# String in Python"
      ],
      "metadata": {
        "id": "GHkONaCix4JR"
      },
      "execution_count": null,
      "outputs": []
    },
    {
      "cell_type": "code",
      "source": [
        "str1 = \"vsjbjfbg\"\n",
        "str2 = 'vsbfkds'\n",
        "str3 = \"\"\"vdsjb\"\"\"\n",
        "str4 = '''vdsv\\nfdb''' # ALl ways we can print string\n",
        "print(str1)\n",
        "print(str2)\n",
        "print(str3)\n",
        "print(str4)\n",
        "\n",
        "# escape sqeuence character like \\n"
      ],
      "metadata": {
        "colab": {
          "base_uri": "https://localhost:8080/"
        },
        "id": "kscebEu0zOG6",
        "outputId": "37c2628d-4bf5-4b7a-b64f-660cef490d47"
      },
      "execution_count": null,
      "outputs": [
        {
          "output_type": "stream",
          "name": "stdout",
          "text": [
            "vsjbjfbg\n",
            "vsbfkds\n",
            "vdsjb\n",
            "vdsv\n",
            "fdb\n"
          ]
        }
      ]
    },
    {
      "cell_type": "code",
      "source": [
        "# concatination in python"
      ],
      "metadata": {
        "id": "Ej8mTRMjzRdy"
      },
      "execution_count": null,
      "outputs": []
    },
    {
      "cell_type": "code",
      "source": [
        "str8 = 'nvsd'\n",
        "str9 = 'vdkn j'\n",
        "str89 = str8 + str9 # concatination\n",
        "print(len(str89))"
      ],
      "metadata": {
        "colab": {
          "base_uri": "https://localhost:8080/"
        },
        "id": "JwII6vdI0Y7y",
        "outputId": "f7aeebe6-8aa8-42ca-c897-5281dbe01198"
      },
      "execution_count": null,
      "outputs": [
        {
          "output_type": "stream",
          "name": "stdout",
          "text": [
            "10\n"
          ]
        }
      ]
    },
    {
      "cell_type": "code",
      "source": [
        "# to find length of strin in oython we use len() fucntion"
      ],
      "metadata": {
        "id": "hsW2rVUP2WPF"
      },
      "execution_count": null,
      "outputs": []
    },
    {
      "cell_type": "code",
      "source": [
        "# indexing in pytthon\n",
        "print(str8[0:]) #here last or end in not encludd"
      ],
      "metadata": {
        "colab": {
          "base_uri": "https://localhost:8080/"
        },
        "id": "F8huZgqw25SY",
        "outputId": "0d9178b2-c352-442a-86b4-14c0881b65dd"
      },
      "execution_count": null,
      "outputs": [
        {
          "output_type": "stream",
          "name": "stdout",
          "text": [
            "nvsd\n"
          ]
        }
      ]
    },
    {
      "cell_type": "code",
      "source": [
        "# slicing\n",
        "# revrsing\n",
        "str43 = 'r342r'\n",
        "print(str43[::-1]) # print string from revsre"
      ],
      "metadata": {
        "colab": {
          "base_uri": "https://localhost:8080/"
        },
        "id": "tGpDBomZ4ZMK",
        "outputId": "f2f63620-5557-4268-887a-ba0d27f1cc71"
      },
      "execution_count": null,
      "outputs": [
        {
          "output_type": "stream",
          "name": "stdout",
          "text": [
            "r243r\n"
          ]
        }
      ]
    },
    {
      "cell_type": "code",
      "source": [
        "# string Fuctnion"
      ],
      "metadata": {
        "id": "ZdFE5ABW5gYh"
      },
      "execution_count": null,
      "outputs": []
    },
    {
      "cell_type": "code",
      "source": [
        "#endswith\n",
        "str32 = 'vsd vdafi vdfbid davbifia vbaidbfuv vaidf to am'\n",
        "print(str32.endswith('d'))"
      ],
      "metadata": {
        "id": "MSEHS-0F7tuW",
        "colab": {
          "base_uri": "https://localhost:8080/"
        },
        "outputId": "5f103087-824f-4c87-ac29-d735908ac41b"
      },
      "execution_count": 5,
      "outputs": [
        {
          "output_type": "stream",
          "name": "stdout",
          "text": [
            "True\n"
          ]
        }
      ]
    },
    {
      "cell_type": "code",
      "source": [
        "#capitalize\n",
        "print(str32.capitalize())"
      ],
      "metadata": {
        "colab": {
          "base_uri": "https://localhost:8080/"
        },
        "id": "ct4p50JKYClp",
        "outputId": "6eb7d244-1d76-48f8-9302-337fd56cbcb1"
      },
      "execution_count": 7,
      "outputs": [
        {
          "output_type": "stream",
          "name": "stdout",
          "text": [
            "Vsd\n"
          ]
        }
      ]
    },
    {
      "cell_type": "code",
      "source": [
        "# replace(old, new)\n",
        "print(str32.replace('v', 'l'))"
      ],
      "metadata": {
        "colab": {
          "base_uri": "https://localhost:8080/"
        },
        "id": "Qp6oTGe2axJB",
        "outputId": "aece8a06-9cdb-454b-833e-6391ee3abcf8"
      },
      "execution_count": 8,
      "outputs": [
        {
          "output_type": "stream",
          "name": "stdout",
          "text": [
            "lsd\n"
          ]
        }
      ]
    },
    {
      "cell_type": "code",
      "source": [
        "# find\n",
        "print(str32.find('to'))\n",
        "\n"
      ],
      "metadata": {
        "colab": {
          "base_uri": "https://localhost:8080/"
        },
        "id": "8nBlh8KWbIov",
        "outputId": "ae6d05f9-2768-4943-d48c-91fb1795c95b"
      },
      "execution_count": 13,
      "outputs": [
        {
          "output_type": "stream",
          "name": "stdout",
          "text": [
            "-1\n"
          ]
        }
      ]
    },
    {
      "cell_type": "code",
      "source": [
        "#count\n",
        "print(str32.count('vd'))"
      ],
      "metadata": {
        "colab": {
          "base_uri": "https://localhost:8080/"
        },
        "id": "YBfqjmuwbrpW",
        "outputId": "bc0d8fe2-ee60-4459-843e-6668f48d700c"
      },
      "execution_count": 15,
      "outputs": [
        {
          "output_type": "stream",
          "name": "stdout",
          "text": [
            "0\n"
          ]
        }
      ]
    },
    {
      "cell_type": "code",
      "source": [
        "# updating singlee character in string"
      ],
      "metadata": {
        "id": "9oDYenK2cE9u"
      },
      "execution_count": 1,
      "outputs": []
    },
    {
      "cell_type": "code",
      "source": [
        "str543 = 'sdfd' #deleting nvfdks\n",
        "str64 = str543[0:2] + str543[3:]\n",
        "del str64\n",
        "print(str64)"
      ],
      "metadata": {
        "colab": {
          "base_uri": "https://localhost:8080/",
          "height": 176
        },
        "id": "wSAsWmmrxA2G",
        "outputId": "d331b9df-96da-49cd-9021-549bb707f5e6"
      },
      "execution_count": 5,
      "outputs": [
        {
          "output_type": "error",
          "ename": "NameError",
          "evalue": "name 'str64' is not defined",
          "traceback": [
            "\u001b[0;31m---------------------------------------------------------------------------\u001b[0m",
            "\u001b[0;31mNameError\u001b[0m                                 Traceback (most recent call last)",
            "\u001b[0;32m/tmp/ipython-input-2542498172.py\u001b[0m in \u001b[0;36m<cell line: 0>\u001b[0;34m()\u001b[0m\n\u001b[1;32m      2\u001b[0m \u001b[0mstr64\u001b[0m \u001b[0;34m=\u001b[0m \u001b[0mstr543\u001b[0m\u001b[0;34m[\u001b[0m\u001b[0;36m0\u001b[0m\u001b[0;34m:\u001b[0m\u001b[0;36m2\u001b[0m\u001b[0;34m]\u001b[0m \u001b[0;34m+\u001b[0m \u001b[0mstr543\u001b[0m\u001b[0;34m[\u001b[0m\u001b[0;36m3\u001b[0m\u001b[0;34m:\u001b[0m\u001b[0;34m]\u001b[0m\u001b[0;34m\u001b[0m\u001b[0;34m\u001b[0m\u001b[0m\n\u001b[1;32m      3\u001b[0m \u001b[0;32mdel\u001b[0m \u001b[0mstr64\u001b[0m\u001b[0;34m\u001b[0m\u001b[0;34m\u001b[0m\u001b[0m\n\u001b[0;32m----> 4\u001b[0;31m \u001b[0mprint\u001b[0m\u001b[0;34m(\u001b[0m\u001b[0mstr64\u001b[0m\u001b[0;34m)\u001b[0m\u001b[0;34m\u001b[0m\u001b[0;34m\u001b[0m\u001b[0m\n\u001b[0m",
            "\u001b[0;31mNameError\u001b[0m: name 'str64' is not defined"
          ]
        }
      ]
    },
    {
      "cell_type": "code",
      "source": [
        "# conditional staments in pythin if else elif"
      ],
      "metadata": {
        "id": "3lnlZehexfY2"
      },
      "execution_count": 6,
      "outputs": []
    },
    {
      "cell_type": "code",
      "source": [
        "#if else elif"
      ],
      "metadata": {
        "id": "PjKS1njOz878"
      },
      "execution_count": 7,
      "outputs": []
    },
    {
      "cell_type": "code",
      "source": [
        "age = 11\n",
        "if(age>18):\n",
        "  print(\"Can Drive\")\n",
        "elif(age == 18):\n",
        "  print(\"can drive\")\n",
        "else:\n",
        "  print(\"sorry\")"
      ],
      "metadata": {
        "colab": {
          "base_uri": "https://localhost:8080/"
        },
        "id": "xpAY-Nmj37PH",
        "outputId": "c8cd0b46-6792-4a8d-fd3e-5149ae6bf92d"
      },
      "execution_count": 10,
      "outputs": [
        {
          "output_type": "stream",
          "name": "stdout",
          "text": [
            "sorry\n"
          ]
        }
      ]
    },
    {
      "cell_type": "code",
      "source": [
        "age = int(input(\"Enter age: \"))\n",
        "if(age>18 and age<30):\n",
        "  print(\"Old Men\")\n",
        "elif(age>=30 and age<50):\n",
        "  print(\"Old\")\n"
      ],
      "metadata": {
        "colab": {
          "base_uri": "https://localhost:8080/"
        },
        "id": "ZBblrXHc4Lom",
        "outputId": "2833551d-1267-48c5-dcb6-8b1ffff1797a"
      },
      "execution_count": 16,
      "outputs": [
        {
          "name": "stdout",
          "output_type": "stream",
          "text": [
            "Enter age: -7\n"
          ]
        }
      ]
    },
    {
      "cell_type": "code",
      "source": [
        "#Nested if else inside tgere is more if statement insidde if"
      ],
      "metadata": {
        "id": "art9XcpZCroL"
      },
      "execution_count": 17,
      "outputs": []
    },
    {
      "cell_type": "code",
      "source": [
        "# check even numer multiple f 4"
      ],
      "metadata": {
        "id": "-m71NS5DJdMp"
      },
      "execution_count": 18,
      "outputs": []
    },
    {
      "cell_type": "code",
      "source": [
        "num = int(input(\"Enter Number: \"))\n",
        "if(num%2==0):\n",
        "  if(num%4==0):\n",
        "    print(\"Yes it is\")\n",
        "  else:\n",
        "    print(\"No it is not\")\n",
        "else:\n",
        "  print(\"Odd number try again\")"
      ],
      "metadata": {
        "colab": {
          "base_uri": "https://localhost:8080/"
        },
        "id": "bNsMl4HoK8uR",
        "outputId": "64079282-6919-424d-e0de-3b7774ea484c"
      },
      "execution_count": 23,
      "outputs": [
        {
          "output_type": "stream",
          "name": "stdout",
          "text": [
            "Enter Number: 89\n",
            "Odd number try again\n"
          ]
        }
      ]
    },
    {
      "cell_type": "code",
      "source": [
        ""
      ],
      "metadata": {
        "id": "cenw3o2dLCa9"
      },
      "execution_count": null,
      "outputs": []
    }
  ]
}
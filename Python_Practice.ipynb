{
  "nbformat": 4,
  "nbformat_minor": 0,
  "metadata": {
    "colab": {
      "provenance": [],
      "authorship_tag": "ABX9TyOHL3RhPlKZqmeSvPomjYKs",
      "include_colab_link": true
    },
    "kernelspec": {
      "name": "python3",
      "display_name": "Python 3"
    },
    "language_info": {
      "name": "python"
    }
  },
  "cells": [
    {
      "cell_type": "markdown",
      "metadata": {
        "id": "view-in-github",
        "colab_type": "text"
      },
      "source": [
        "<a href=\"https://colab.research.google.com/github/LOVISH066/Python/blob/main/Python_Practice.ipynb\" target=\"_parent\"><img src=\"https://colab.research.google.com/assets/colab-badge.svg\" alt=\"Open In Colab\"/></a>"
      ]
    },
    {
      "cell_type": "code",
      "execution_count": null,
      "metadata": {
        "colab": {
          "base_uri": "https://localhost:8080/"
        },
        "id": "tC7u7f2hRrxB",
        "outputId": "c6cb8d08-435f-41e7-bd64-c83c05abcc47"
      },
      "outputs": [
        {
          "output_type": "stream",
          "name": "stdout",
          "text": [
            "Hello World\n"
          ]
        }
      ],
      "source": [
        "# print(value, sep, end)\n",
        "print('Hello World')"
      ]
    },
    {
      "cell_type": "code",
      "source": [
        "print('hello', 'world', sep='-')"
      ],
      "metadata": {
        "colab": {
          "base_uri": "https://localhost:8080/"
        },
        "id": "zIChglwBSh0T",
        "outputId": "449ec917-221f-4516-ea54-94f3d53317a3"
      },
      "execution_count": null,
      "outputs": [
        {
          "output_type": "stream",
          "name": "stdout",
          "text": [
            "hello-world\n"
          ]
        }
      ]
    },
    {
      "cell_type": "code",
      "source": [
        "print('hello', end='')\n",
        "print('world')"
      ],
      "metadata": {
        "colab": {
          "base_uri": "https://localhost:8080/"
        },
        "id": "FBYeKGLzTa_H",
        "outputId": "07243f08-18d1-46e3-8ce1-c4ea4f361edd"
      },
      "execution_count": null,
      "outputs": [
        {
          "output_type": "stream",
          "name": "stdout",
          "text": [
            "helloworld\n"
          ]
        }
      ]
    },
    {
      "cell_type": "code",
      "source": [
        "print(3)"
      ],
      "metadata": {
        "colab": {
          "base_uri": "https://localhost:8080/"
        },
        "id": "TYpJBWYiUEv4",
        "outputId": "d0323422-d2d8-47b5-be36-87cc7e803217"
      },
      "execution_count": null,
      "outputs": [
        {
          "output_type": "stream",
          "name": "stdout",
          "text": [
            "3\n"
          ]
        }
      ]
    },
    {
      "cell_type": "code",
      "source": [
        "print('hello'+'world')"
      ],
      "metadata": {
        "id": "BYw8FaApUXov",
        "outputId": "4caee1b2-4213-43d0-fbc1-b85a23ee4e76",
        "colab": {
          "base_uri": "https://localhost:8080/"
        }
      },
      "execution_count": null,
      "outputs": [
        {
          "output_type": "stream",
          "name": "stdout",
          "text": [
            "helloworld\n"
          ]
        }
      ]
    },
    {
      "cell_type": "code",
      "source": [],
      "metadata": {
        "id": "hXNC5Od5VlsB"
      },
      "execution_count": null,
      "outputs": []
    },
    {
      "cell_type": "markdown",
      "source": [
        "Comments in python '#'\n"
      ],
      "metadata": {
        "id": "tOY8pxQ8my_k"
      }
    },
    {
      "cell_type": "code",
      "source": [
        "#print(\"Coomments\") also use to skip part of the code dont get executed\n",
        "# this is for information"
      ],
      "metadata": {
        "id": "SjGkbyknm2qs"
      },
      "execution_count": null,
      "outputs": []
    },
    {
      "cell_type": "code",
      "source": [
        "'''multiline comment\n",
        "mkdnavf\n",
        "ava\n",
        "avdfa\n",
        "advf\n",
        "afvadvfad\n",
        "'''\n",
        "print(\"Fad\")"
      ],
      "metadata": {
        "colab": {
          "base_uri": "https://localhost:8080/"
        },
        "id": "CPpLukQPnFe2",
        "outputId": "edbabc7f-52c7-4eb4-c46a-c3f41db065cf"
      },
      "execution_count": null,
      "outputs": [
        {
          "output_type": "stream",
          "name": "stdout",
          "text": [
            "Fad\n"
          ]
        }
      ]
    },
    {
      "cell_type": "code",
      "source": [],
      "metadata": {
        "id": "BUwsdR1dnWuw"
      },
      "execution_count": null,
      "outputs": []
    },
    {
      "cell_type": "markdown",
      "source": [],
      "metadata": {
        "id": "91meYUjBpfUq"
      }
    },
    {
      "cell_type": "markdown",
      "source": [
        "Variables in python"
      ],
      "metadata": {
        "id": "BJntCe3gpfey"
      }
    },
    {
      "cell_type": "code",
      "source": [
        "# variable store value in this"
      ],
      "metadata": {
        "id": "rMXol0e_pgqX"
      },
      "execution_count": null,
      "outputs": []
    },
    {
      "cell_type": "code",
      "source": [
        "name = 'Lovish'\n",
        "age = 21\n",
        "price = 'infinte'"
      ],
      "metadata": {
        "id": "Cz3ijg8UqSYv"
      },
      "execution_count": null,
      "outputs": []
    },
    {
      "cell_type": "code",
      "source": [
        "print(name, age, price, sep = '\\t')"
      ],
      "metadata": {
        "colab": {
          "base_uri": "https://localhost:8080/"
        },
        "id": "Sd93U6Xtprio",
        "outputId": "ae51d979-d0e8-4332-e6fc-e57ae23a7439"
      },
      "execution_count": null,
      "outputs": [
        {
          "output_type": "stream",
          "name": "stdout",
          "text": [
            "Lovish\t21\tinfinte\n"
          ]
        }
      ]
    },
    {
      "cell_type": "code",
      "source": [
        "age = 32"
      ],
      "metadata": {
        "id": "-5-LymxNqeZ_"
      },
      "execution_count": null,
      "outputs": []
    },
    {
      "cell_type": "code",
      "source": [
        "print(age)"
      ],
      "metadata": {
        "colab": {
          "base_uri": "https://localhost:8080/"
        },
        "id": "Vx9mAxOiq10t",
        "outputId": "3d4ee7b6-3121-4a43-b02c-0e1533ed01ce"
      },
      "execution_count": null,
      "outputs": [
        {
          "output_type": "stream",
          "name": "stdout",
          "text": [
            "32\n"
          ]
        }
      ]
    },
    {
      "cell_type": "code",
      "source": [
        "dob = age"
      ],
      "metadata": {
        "id": "wNTNuddWq3ym"
      },
      "execution_count": null,
      "outputs": []
    },
    {
      "cell_type": "code",
      "source": [
        "print(dob)"
      ],
      "metadata": {
        "id": "25oqfId7q98P",
        "outputId": "7f06da9b-7913-492d-a0b3-3cdea36da6db",
        "colab": {
          "base_uri": "https://localhost:8080/"
        }
      },
      "execution_count": null,
      "outputs": [
        {
          "output_type": "stream",
          "name": "stdout",
          "text": [
            "32\n"
          ]
        }
      ]
    },
    {
      "cell_type": "code",
      "source": [
        "print('Lets Go')"
      ],
      "metadata": {
        "id": "jpzG4484q_hv",
        "colab": {
          "base_uri": "https://localhost:8080/"
        },
        "outputId": "e69f86f1-48df-4af4-d586-ca61f6d24508"
      },
      "execution_count": null,
      "outputs": [
        {
          "output_type": "stream",
          "name": "stdout",
          "text": [
            "Lets Go\n"
          ]
        }
      ]
    },
    {
      "cell_type": "code",
      "source": [
        "##############################################3"
      ],
      "metadata": {
        "id": "lMAmlSn4Xg8K"
      },
      "execution_count": null,
      "outputs": []
    },
    {
      "cell_type": "code",
      "source": [
        "# type onversion in python\n",
        "#implicit conversion"
      ],
      "metadata": {
        "id": "VpFDE0tkVnHb"
      },
      "execution_count": null,
      "outputs": []
    },
    {
      "cell_type": "code",
      "source": [
        "x = 21\n",
        "print(type(x))"
      ],
      "metadata": {
        "colab": {
          "base_uri": "https://localhost:8080/"
        },
        "id": "5lkmSACEWUUb",
        "outputId": "dc6e8ee6-8372-4bbe-a56c-6c195a4dd7d5"
      },
      "execution_count": null,
      "outputs": [
        {
          "output_type": "stream",
          "name": "stdout",
          "text": [
            "<class 'int'>\n"
          ]
        }
      ]
    },
    {
      "cell_type": "code",
      "source": [
        "#explicit conversion -> here conversio ndone by user wheras in explict conversion done by pythhon\n"
      ],
      "metadata": {
        "id": "-1FuR490WnV3"
      },
      "execution_count": null,
      "outputs": []
    },
    {
      "cell_type": "code",
      "source": [
        "y = '321.21'\n",
        "print(y)\n",
        "#print(double(y))\n",
        "\n"
      ],
      "metadata": {
        "colab": {
          "base_uri": "https://localhost:8080/"
        },
        "id": "OoPRiNrbW-JT",
        "outputId": "66d33e45-dc00-4c0f-fbe3-bdcddd84beae"
      },
      "execution_count": null,
      "outputs": [
        {
          "output_type": "stream",
          "name": "stdout",
          "text": [
            "321.21\n"
          ]
        }
      ]
    },
    {
      "cell_type": "code",
      "source": [
        "c = complex(x,y)\n",
        "print(c)"
      ],
      "metadata": {
        "colab": {
          "base_uri": "https://localhost:8080/"
        },
        "id": "ywFPZ3ACXkSO",
        "outputId": "0ab03909-6c2a-4a5f-d515-44471f2d90b0"
      },
      "execution_count": null,
      "outputs": [
        {
          "output_type": "stream",
          "name": "stdout",
          "text": [
            "(21+321j)\n"
          ]
        }
      ]
    },
    {
      "cell_type": "code",
      "source": [
        "v = \"20 \"\n",
        "b = \" 32 \"\n",
        "\n",
        "s = v +  b\n",
        "print(s)"
      ],
      "metadata": {
        "colab": {
          "base_uri": "https://localhost:8080/"
        },
        "id": "agH1NeGxX1Tf",
        "outputId": "489f2e86-d3a6-4859-a16c-f468ce02db46"
      },
      "execution_count": null,
      "outputs": [
        {
          "output_type": "stream",
          "name": "stdout",
          "text": [
            "20  32 \n"
          ]
        }
      ]
    },
    {
      "cell_type": "code",
      "source": [
        "# taking input in python"
      ],
      "metadata": {
        "id": "cZY-J8jJY3yY"
      },
      "execution_count": null,
      "outputs": []
    },
    {
      "cell_type": "code",
      "source": [
        "name = input(\"Enter Name\")\n",
        "print(name)"
      ],
      "metadata": {
        "colab": {
          "base_uri": "https://localhost:8080/"
        },
        "id": "48eMzELVZc0K",
        "outputId": "4959a701-f84c-4f01-845e-e90e5a304ac6"
      },
      "execution_count": null,
      "outputs": [
        {
          "output_type": "stream",
          "name": "stdout",
          "text": [
            "Enter Name ,kl\n",
            " ,kl\n"
          ]
        }
      ]
    },
    {
      "cell_type": "code",
      "source": [
        "#by default string\n",
        "print(type(name))"
      ],
      "metadata": {
        "colab": {
          "base_uri": "https://localhost:8080/"
        },
        "id": "nmVLm9pfZw9E",
        "outputId": "7d65298f-df9d-4939-bb96-595c9f72c069"
      },
      "execution_count": null,
      "outputs": [
        {
          "output_type": "stream",
          "name": "stdout",
          "text": [
            "<class 'str'>\n"
          ]
        }
      ]
    },
    {
      "cell_type": "code",
      "source": [
        "# to take integer"
      ],
      "metadata": {
        "id": "S9D4ur-9aAGS"
      },
      "execution_count": null,
      "outputs": []
    },
    {
      "cell_type": "code",
      "source": [
        "age = int(input('Enter Age'))\n",
        "print(age)"
      ],
      "metadata": {
        "colab": {
          "base_uri": "https://localhost:8080/"
        },
        "id": "6yhPWPDCaCKR",
        "outputId": "2fd7c1ba-ec4b-4e49-e43e-ec17dd280d30"
      },
      "execution_count": null,
      "outputs": [
        {
          "output_type": "stream",
          "name": "stdout",
          "text": [
            "Enter Age12\n",
            "12\n"
          ]
        }
      ]
    },
    {
      "cell_type": "code",
      "source": [
        "print(type(age))"
      ],
      "metadata": {
        "colab": {
          "base_uri": "https://localhost:8080/"
        },
        "id": "Liee-x-NaX8_",
        "outputId": "5bd86381-467b-468e-d466-c4114342c1eb"
      },
      "execution_count": null,
      "outputs": [
        {
          "output_type": "stream",
          "name": "stdout",
          "text": [
            "<class 'int'>\n"
          ]
        }
      ]
    },
    {
      "cell_type": "code",
      "source": [
        "# precedienc ein python ---> PEMDAS\\ parrenthee, exponent, multiplicatin, diviosion , addition, subtraction"
      ],
      "metadata": {
        "id": "zpEnRqraagRi"
      },
      "execution_count": null,
      "outputs": []
    },
    {
      "cell_type": "code",
      "source": [
        "# PEMDAS"
      ],
      "metadata": {
        "id": "MsQ-060gejk4"
      },
      "execution_count": null,
      "outputs": []
    },
    {
      "cell_type": "code",
      "source": [
        "print(15*2)"
      ],
      "metadata": {
        "colab": {
          "base_uri": "https://localhost:8080/"
        },
        "id": "xyBCGfaWeqVJ",
        "outputId": "98b9b517-f529-42d6-c304-5e9b8b20102c"
      },
      "execution_count": null,
      "outputs": [
        {
          "output_type": "stream",
          "name": "stdout",
          "text": [
            "30\n"
          ]
        }
      ]
    },
    {
      "cell_type": "code",
      "source": [
        "print(15*2//2)"
      ],
      "metadata": {
        "colab": {
          "base_uri": "https://localhost:8080/"
        },
        "id": "CcD_KbzafQb_",
        "outputId": "9fd8cc4d-7790-4d5f-a744-ca5613356d88"
      },
      "execution_count": null,
      "outputs": [
        {
          "output_type": "stream",
          "name": "stdout",
          "text": [
            "15\n"
          ]
        }
      ]
    },
    {
      "cell_type": "code",
      "source": [
        "print((2 + 3 * (2 + 4) / 8 - 1)//100)"
      ],
      "metadata": {
        "colab": {
          "base_uri": "https://localhost:8080/"
        },
        "id": "-LBiP8CdfwZ4",
        "outputId": "a5adecf1-ff6a-419f-99b2-28f8da7f17eb"
      },
      "execution_count": null,
      "outputs": [
        {
          "output_type": "stream",
          "name": "stdout",
          "text": [
            "0.0\n"
          ]
        }
      ]
    },
    {
      "cell_type": "code",
      "source": [
        "# comparison operatr are same as relational operator they use for or to relate like true false\n"
      ],
      "metadata": {
        "id": "NPCwIzqZgc15"
      },
      "execution_count": null,
      "outputs": []
    },
    {
      "cell_type": "code",
      "source": [],
      "metadata": {
        "id": "eechBdBQh_oa"
      },
      "execution_count": null,
      "outputs": []
    }
  ]
}
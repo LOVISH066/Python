{
  "nbformat": 4,
  "nbformat_minor": 0,
  "metadata": {
    "colab": {
      "provenance": [],
      "authorship_tag": "ABX9TyNizTsvnN295+1l5ZlKKgAA",
      "include_colab_link": true
    },
    "kernelspec": {
      "name": "python3",
      "display_name": "Python 3"
    },
    "language_info": {
      "name": "python"
    }
  },
  "cells": [
    {
      "cell_type": "markdown",
      "metadata": {
        "id": "view-in-github",
        "colab_type": "text"
      },
      "source": [
        "<a href=\"https://colab.research.google.com/github/LOVISH066/Python/blob/main/python.ipynb\" target=\"_parent\"><img src=\"https://colab.research.google.com/assets/colab-badge.svg\" alt=\"Open In Colab\"/></a>"
      ]
    },
    {
      "cell_type": "code",
      "execution_count": null,
      "metadata": {
        "colab": {
          "base_uri": "https://localhost:8080/"
        },
        "id": "tC7u7f2hRrxB",
        "outputId": "c6cb8d08-435f-41e7-bd64-c83c05abcc47"
      },
      "outputs": [
        {
          "output_type": "stream",
          "name": "stdout",
          "text": [
            "Hello World\n"
          ]
        }
      ],
      "source": [
        "# print(value, sep, end)\n",
        "print('Hello World')"
      ]
    },
    {
      "cell_type": "code",
      "source": [
        "print('hello', 'world', sep='-')"
      ],
      "metadata": {
        "colab": {
          "base_uri": "https://localhost:8080/"
        },
        "id": "zIChglwBSh0T",
        "outputId": "449ec917-221f-4516-ea54-94f3d53317a3"
      },
      "execution_count": null,
      "outputs": [
        {
          "output_type": "stream",
          "name": "stdout",
          "text": [
            "hello-world\n"
          ]
        }
      ]
    },
    {
      "cell_type": "code",
      "source": [
        "print('hello', end='')\n",
        "print('world')"
      ],
      "metadata": {
        "colab": {
          "base_uri": "https://localhost:8080/"
        },
        "id": "FBYeKGLzTa_H",
        "outputId": "07243f08-18d1-46e3-8ce1-c4ea4f361edd"
      },
      "execution_count": null,
      "outputs": [
        {
          "output_type": "stream",
          "name": "stdout",
          "text": [
            "helloworld\n"
          ]
        }
      ]
    },
    {
      "cell_type": "code",
      "source": [
        "print(3)"
      ],
      "metadata": {
        "colab": {
          "base_uri": "https://localhost:8080/"
        },
        "id": "TYpJBWYiUEv4",
        "outputId": "d0323422-d2d8-47b5-be36-87cc7e803217"
      },
      "execution_count": null,
      "outputs": [
        {
          "output_type": "stream",
          "name": "stdout",
          "text": [
            "3\n"
          ]
        }
      ]
    },
    {
      "cell_type": "code",
      "source": [
        "print('hello'+'world')"
      ],
      "metadata": {
        "id": "BYw8FaApUXov",
        "outputId": "4caee1b2-4213-43d0-fbc1-b85a23ee4e76",
        "colab": {
          "base_uri": "https://localhost:8080/"
        }
      },
      "execution_count": null,
      "outputs": [
        {
          "output_type": "stream",
          "name": "stdout",
          "text": [
            "helloworld\n"
          ]
        }
      ]
    },
    {
      "cell_type": "markdown",
      "source": [
        "Comments in python '#'\n"
      ],
      "metadata": {
        "id": "tOY8pxQ8my_k"
      }
    },
    {
      "cell_type": "code",
      "source": [
        "#print(\"Coomments\") also use to skip part of the code dont get executed\n",
        "# this is for information"
      ],
      "metadata": {
        "id": "SjGkbyknm2qs"
      },
      "execution_count": null,
      "outputs": []
    },
    {
      "cell_type": "code",
      "source": [
        "'''multiline comment\n",
        "mkdnavf\n",
        "ava\n",
        "avdfa\n",
        "advf\n",
        "afvadvfad\n",
        "'''\n",
        "print(\"Fad\")"
      ],
      "metadata": {
        "colab": {
          "base_uri": "https://localhost:8080/"
        },
        "id": "CPpLukQPnFe2",
        "outputId": "edbabc7f-52c7-4eb4-c46a-c3f41db065cf"
      },
      "execution_count": null,
      "outputs": [
        {
          "output_type": "stream",
          "name": "stdout",
          "text": [
            "Fad\n"
          ]
        }
      ]
    },
    {
      "cell_type": "code",
      "source": [],
      "metadata": {
        "id": "BUwsdR1dnWuw"
      },
      "execution_count": null,
      "outputs": []
    },
    {
      "cell_type": "markdown",
      "source": [],
      "metadata": {
        "id": "91meYUjBpfUq"
      }
    },
    {
      "cell_type": "markdown",
      "source": [
        "Variables in python"
      ],
      "metadata": {
        "id": "BJntCe3gpfey"
      }
    },
    {
      "cell_type": "code",
      "source": [
        "# variable store value in this"
      ],
      "metadata": {
        "id": "rMXol0e_pgqX"
      },
      "execution_count": null,
      "outputs": []
    },
    {
      "cell_type": "code",
      "source": [
        "name = 'Lovish'\n",
        "age = 21\n",
        "price = 'infinte'"
      ],
      "metadata": {
        "id": "Cz3ijg8UqSYv"
      },
      "execution_count": null,
      "outputs": []
    },
    {
      "cell_type": "code",
      "source": [
        "print(name, age, price, sep = '\\t')"
      ],
      "metadata": {
        "colab": {
          "base_uri": "https://localhost:8080/"
        },
        "id": "Sd93U6Xtprio",
        "outputId": "ae51d979-d0e8-4332-e6fc-e57ae23a7439"
      },
      "execution_count": null,
      "outputs": [
        {
          "output_type": "stream",
          "name": "stdout",
          "text": [
            "Lovish\t21\tinfinte\n"
          ]
        }
      ]
    },
    {
      "cell_type": "code",
      "source": [
        "age = 32"
      ],
      "metadata": {
        "id": "-5-LymxNqeZ_"
      },
      "execution_count": null,
      "outputs": []
    },
    {
      "cell_type": "code",
      "source": [
        "print(age)"
      ],
      "metadata": {
        "colab": {
          "base_uri": "https://localhost:8080/"
        },
        "id": "Vx9mAxOiq10t",
        "outputId": "3d4ee7b6-3121-4a43-b02c-0e1533ed01ce"
      },
      "execution_count": null,
      "outputs": [
        {
          "output_type": "stream",
          "name": "stdout",
          "text": [
            "32\n"
          ]
        }
      ]
    },
    {
      "cell_type": "code",
      "source": [
        "dob = age"
      ],
      "metadata": {
        "id": "wNTNuddWq3ym"
      },
      "execution_count": null,
      "outputs": []
    },
    {
      "cell_type": "code",
      "source": [
        "print(dob)"
      ],
      "metadata": {
        "id": "25oqfId7q98P",
        "outputId": "7f06da9b-7913-492d-a0b3-3cdea36da6db",
        "colab": {
          "base_uri": "https://localhost:8080/"
        }
      },
      "execution_count": null,
      "outputs": [
        {
          "output_type": "stream",
          "name": "stdout",
          "text": [
            "32\n"
          ]
        }
      ]
    },
    {
      "cell_type": "code",
      "source": [
        "print('Lets Go')"
      ],
      "metadata": {
        "id": "jpzG4484q_hv",
        "colab": {
          "base_uri": "https://localhost:8080/"
        },
        "outputId": "e69f86f1-48df-4af4-d586-ca61f6d24508"
      },
      "execution_count": 1,
      "outputs": [
        {
          "output_type": "stream",
          "name": "stdout",
          "text": [
            "Lets Go\n"
          ]
        }
      ]
    },
    {
      "cell_type": "code",
      "source": [],
      "metadata": {
        "id": "lMAmlSn4Xg8K"
      },
      "execution_count": null,
      "outputs": []
    }
  ]
}